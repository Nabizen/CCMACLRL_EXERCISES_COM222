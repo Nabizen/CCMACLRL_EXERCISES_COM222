{
  "cells": [
    {
      "cell_type": "markdown",
      "metadata": {
        "colab_type": "text",
        "id": "view-in-github"
      },
      "source": [
        "<a href=\"https://colab.research.google.com/github/robitussin/CCMACLRL_EXERCISES/blob/main/Exercise9.ipynb\" target=\"_parent\"><img src=\"https://colab.research.google.com/assets/colab-badge.svg\" alt=\"Open In Colab\"/></a>"
      ]
    },
    {
      "cell_type": "markdown",
      "metadata": {
        "id": "99_2rPCJrNfK"
      },
      "source": [
        "## Exercise 9: Choosing the best performing model on a dataset\n",
        "\n",
        "Instructions:\n",
        "\n",
        "- Use the Dataset File to train your model\n",
        "- Use the Test File to generate your results\n",
        "- Use the Sample Submission file to generate the same format\n",
        "- Use all classification models\n",
        "\n",
        "Submit your results to:\n",
        "https://www.kaggle.com/competitions/playground-series-s4e10/overview\n",
        "\n"
      ]
    },
    {
      "cell_type": "code",
      "execution_count": 75,
      "metadata": {
        "id": "R_se3V8gftVL"
      },
      "outputs": [],
      "source": [
        "import pandas as pd\n",
        "import seaborn as sns\n",
        "\n",
        "from matplotlib import pyplot as plt\n",
        "from sklearn.calibration import LabelEncoder\n",
        "from sklearn.model_selection import train_test_split\n",
        "from sklearn.model_selection import cross_val_score\n",
        "\n",
        "from sklearn.neighbors import KNeighborsClassifier\n",
        "from sklearn.linear_model import LogisticRegression\n",
        "from sklearn.naive_bayes import GaussianNB\n",
        "from sklearn.svm import SVC\n",
        "from sklearn.tree import DecisionTreeClassifier\n",
        "from sklearn.ensemble import RandomForestClassifier"
      ]
    },
    {
      "cell_type": "markdown",
      "metadata": {
        "id": "eCNNEXIhftVN"
      },
      "source": [
        "## Dataset File"
      ]
    },
    {
      "cell_type": "code",
      "execution_count": 76,
      "metadata": {
        "id": "-Cqj3uEkftVO"
      },
      "outputs": [],
      "source": [
        "dataset_url = 'https://github.com/robitussin/CCMACLRL_EXERCISES/blob/main/datasets/loan_approval/train.csv?raw=true'\n",
        "df = pd.read_csv(dataset_url)"
      ]
    },
    {
      "cell_type": "markdown",
      "metadata": {
        "id": "mLFiGySNftVP"
      },
      "source": [
        "## Test File"
      ]
    },
    {
      "cell_type": "code",
      "execution_count": 77,
      "metadata": {
        "id": "7pKmP53fftVP"
      },
      "outputs": [],
      "source": [
        "test_url = 'https://github.com/robitussin/CCMACLRL_EXERCISES/blob/main/datasets/loan_approval/test.csv?raw=true'\n",
        "dt=pd.read_csv(test_url)"
      ]
    },
    {
      "cell_type": "code",
      "execution_count": 78,
      "metadata": {
        "colab": {
          "base_uri": "https://localhost:8080/"
        },
        "id": "2f11HsMzqEvJ",
        "outputId": "184a02a3-2bdd-43ed-8637-215737be9851"
      },
      "outputs": [
        {
          "name": "stdout",
          "output_type": "stream",
          "text": [
            "<class 'pandas.core.frame.DataFrame'>\n",
            "RangeIndex: 39098 entries, 0 to 39097\n",
            "Data columns (total 12 columns):\n",
            " #   Column                      Non-Null Count  Dtype  \n",
            "---  ------                      --------------  -----  \n",
            " 0   id                          39098 non-null  int64  \n",
            " 1   person_age                  39098 non-null  int64  \n",
            " 2   person_income               39098 non-null  int64  \n",
            " 3   person_home_ownership       39098 non-null  object \n",
            " 4   person_emp_length           39098 non-null  float64\n",
            " 5   loan_intent                 39098 non-null  object \n",
            " 6   loan_grade                  39098 non-null  object \n",
            " 7   loan_amnt                   39098 non-null  int64  \n",
            " 8   loan_int_rate               39098 non-null  float64\n",
            " 9   loan_percent_income         39098 non-null  float64\n",
            " 10  cb_person_default_on_file   39098 non-null  object \n",
            " 11  cb_person_cred_hist_length  39098 non-null  int64  \n",
            "dtypes: float64(3), int64(5), object(4)\n",
            "memory usage: 3.6+ MB\n"
          ]
        }
      ],
      "source": [
        "dt.info()"
      ]
    },
    {
      "cell_type": "markdown",
      "metadata": {
        "id": "ntGpbsBg8hft"
      },
      "source": [
        "## Sample Submission File"
      ]
    },
    {
      "cell_type": "code",
      "execution_count": 79,
      "metadata": {
        "id": "-5Dwtw_w3U8W"
      },
      "outputs": [],
      "source": [
        "sample_submission_url ='https://github.com/robitussin/CCMACLRL_EXERCISES/blob/main/datasets/loan_approval/sample_submission.csv?raw=true'\n",
        "\n",
        "sf=pd.read_csv(sample_submission_url)"
      ]
    },
    {
      "cell_type": "code",
      "execution_count": 80,
      "metadata": {
        "colab": {
          "base_uri": "https://localhost:8080/"
        },
        "id": "K1_62qZBqLjV",
        "outputId": "1483cdec-a973-4393-df5c-dc71e75b43d7"
      },
      "outputs": [
        {
          "name": "stdout",
          "output_type": "stream",
          "text": [
            "<class 'pandas.core.frame.DataFrame'>\n",
            "RangeIndex: 39098 entries, 0 to 39097\n",
            "Data columns (total 2 columns):\n",
            " #   Column       Non-Null Count  Dtype  \n",
            "---  ------       --------------  -----  \n",
            " 0   id           39098 non-null  int64  \n",
            " 1   loan_status  39098 non-null  float64\n",
            "dtypes: float64(1), int64(1)\n",
            "memory usage: 611.0 KB\n"
          ]
        }
      ],
      "source": [
        "sf.info()"
      ]
    },
    {
      "cell_type": "markdown",
      "metadata": {
        "id": "7nNjd6aErISr"
      },
      "source": [
        "Cleaning"
      ]
    },
    {
      "cell_type": "code",
      "execution_count": 81,
      "metadata": {
        "id": "DtqJH7yPrHSm"
      },
      "outputs": [
        {
          "name": "stdout",
          "output_type": "stream",
          "text": [
            "<class 'pandas.core.frame.DataFrame'>\n",
            "RangeIndex: 58645 entries, 0 to 58644\n",
            "Data columns (total 13 columns):\n",
            " #   Column                      Non-Null Count  Dtype  \n",
            "---  ------                      --------------  -----  \n",
            " 0   id                          58645 non-null  int64  \n",
            " 1   person_age                  58645 non-null  int64  \n",
            " 2   person_income               58645 non-null  int64  \n",
            " 3   person_home_ownership       58645 non-null  object \n",
            " 4   person_emp_length           58645 non-null  float64\n",
            " 5   loan_intent                 58645 non-null  object \n",
            " 6   loan_grade                  58645 non-null  object \n",
            " 7   loan_amnt                   58645 non-null  int64  \n",
            " 8   loan_int_rate               58645 non-null  float64\n",
            " 9   loan_percent_income         58645 non-null  float64\n",
            " 10  cb_person_default_on_file   58645 non-null  object \n",
            " 11  cb_person_cred_hist_length  58645 non-null  int64  \n",
            " 12  loan_status                 58645 non-null  int64  \n",
            "dtypes: float64(3), int64(6), object(4)\n",
            "memory usage: 5.8+ MB\n"
          ]
        }
      ],
      "source": [
        "df.info()"
      ]
    },
    {
      "cell_type": "code",
      "execution_count": 82,
      "metadata": {},
      "outputs": [
        {
          "data": {
            "text/plain": [
              "id                            0\n",
              "person_age                    0\n",
              "person_income                 0\n",
              "person_home_ownership         0\n",
              "person_emp_length             0\n",
              "loan_intent                   0\n",
              "loan_grade                    0\n",
              "loan_amnt                     0\n",
              "loan_int_rate                 0\n",
              "loan_percent_income           0\n",
              "cb_person_default_on_file     0\n",
              "cb_person_cred_hist_length    0\n",
              "loan_status                   0\n",
              "dtype: int64"
            ]
          },
          "execution_count": 82,
          "metadata": {},
          "output_type": "execute_result"
        }
      ],
      "source": [
        "df.isnull().sum()"
      ]
    },
    {
      "cell_type": "code",
      "execution_count": 83,
      "metadata": {},
      "outputs": [],
      "source": [
        "label_encoder = LabelEncoder()\n",
        "df['person_home_ownership'] = label_encoder.fit_transform(df['person_home_ownership'])\n",
        "dt['person_home_ownership'] = label_encoder.fit_transform(dt['person_home_ownership'])\n",
        "     \n",
        "\n",
        "df['loan_intent'] = label_encoder.fit_transform(df['loan_intent'])\n",
        "dt['loan_intent'] = label_encoder.fit_transform(dt['loan_intent'])\n",
        "     \n",
        "\n",
        "df['loan_grade'] = label_encoder.fit_transform(df['loan_grade'])\n",
        "dt['loan_grade'] = label_encoder.fit_transform(dt['loan_grade'])\n",
        "     \n",
        "\n",
        "df['cb_person_default_on_file'] = label_encoder.fit_transform(df['cb_person_default_on_file'])\n",
        "dt['cb_person_default_on_file'] = label_encoder.fit_transform(dt['cb_person_default_on_file'])"
      ]
    },
    {
      "cell_type": "code",
      "execution_count": 84,
      "metadata": {},
      "outputs": [
        {
          "data": {
            "text/html": [
              "<div>\n",
              "<style scoped>\n",
              "    .dataframe tbody tr th:only-of-type {\n",
              "        vertical-align: middle;\n",
              "    }\n",
              "\n",
              "    .dataframe tbody tr th {\n",
              "        vertical-align: top;\n",
              "    }\n",
              "\n",
              "    .dataframe thead th {\n",
              "        text-align: right;\n",
              "    }\n",
              "</style>\n",
              "<table border=\"1\" class=\"dataframe\">\n",
              "  <thead>\n",
              "    <tr style=\"text-align: right;\">\n",
              "      <th></th>\n",
              "      <th>id</th>\n",
              "      <th>person_age</th>\n",
              "      <th>person_income</th>\n",
              "      <th>person_home_ownership</th>\n",
              "      <th>person_emp_length</th>\n",
              "      <th>loan_intent</th>\n",
              "      <th>loan_grade</th>\n",
              "      <th>loan_amnt</th>\n",
              "      <th>loan_int_rate</th>\n",
              "      <th>loan_percent_income</th>\n",
              "      <th>cb_person_default_on_file</th>\n",
              "      <th>cb_person_cred_hist_length</th>\n",
              "      <th>loan_status</th>\n",
              "    </tr>\n",
              "  </thead>\n",
              "  <tbody>\n",
              "    <tr>\n",
              "      <th>0</th>\n",
              "      <td>0</td>\n",
              "      <td>37</td>\n",
              "      <td>35000</td>\n",
              "      <td>3</td>\n",
              "      <td>0.0</td>\n",
              "      <td>1</td>\n",
              "      <td>1</td>\n",
              "      <td>6000</td>\n",
              "      <td>11.49</td>\n",
              "      <td>0.17</td>\n",
              "      <td>0</td>\n",
              "      <td>14</td>\n",
              "      <td>0</td>\n",
              "    </tr>\n",
              "    <tr>\n",
              "      <th>1</th>\n",
              "      <td>1</td>\n",
              "      <td>22</td>\n",
              "      <td>56000</td>\n",
              "      <td>2</td>\n",
              "      <td>6.0</td>\n",
              "      <td>3</td>\n",
              "      <td>2</td>\n",
              "      <td>4000</td>\n",
              "      <td>13.35</td>\n",
              "      <td>0.07</td>\n",
              "      <td>0</td>\n",
              "      <td>2</td>\n",
              "      <td>0</td>\n",
              "    </tr>\n",
              "    <tr>\n",
              "      <th>2</th>\n",
              "      <td>2</td>\n",
              "      <td>29</td>\n",
              "      <td>28800</td>\n",
              "      <td>2</td>\n",
              "      <td>8.0</td>\n",
              "      <td>4</td>\n",
              "      <td>0</td>\n",
              "      <td>6000</td>\n",
              "      <td>8.90</td>\n",
              "      <td>0.21</td>\n",
              "      <td>0</td>\n",
              "      <td>10</td>\n",
              "      <td>0</td>\n",
              "    </tr>\n",
              "    <tr>\n",
              "      <th>3</th>\n",
              "      <td>3</td>\n",
              "      <td>30</td>\n",
              "      <td>70000</td>\n",
              "      <td>3</td>\n",
              "      <td>14.0</td>\n",
              "      <td>5</td>\n",
              "      <td>1</td>\n",
              "      <td>12000</td>\n",
              "      <td>11.11</td>\n",
              "      <td>0.17</td>\n",
              "      <td>0</td>\n",
              "      <td>5</td>\n",
              "      <td>0</td>\n",
              "    </tr>\n",
              "    <tr>\n",
              "      <th>4</th>\n",
              "      <td>4</td>\n",
              "      <td>22</td>\n",
              "      <td>60000</td>\n",
              "      <td>3</td>\n",
              "      <td>2.0</td>\n",
              "      <td>3</td>\n",
              "      <td>0</td>\n",
              "      <td>6000</td>\n",
              "      <td>6.92</td>\n",
              "      <td>0.10</td>\n",
              "      <td>0</td>\n",
              "      <td>3</td>\n",
              "      <td>0</td>\n",
              "    </tr>\n",
              "    <tr>\n",
              "      <th>...</th>\n",
              "      <td>...</td>\n",
              "      <td>...</td>\n",
              "      <td>...</td>\n",
              "      <td>...</td>\n",
              "      <td>...</td>\n",
              "      <td>...</td>\n",
              "      <td>...</td>\n",
              "      <td>...</td>\n",
              "      <td>...</td>\n",
              "      <td>...</td>\n",
              "      <td>...</td>\n",
              "      <td>...</td>\n",
              "      <td>...</td>\n",
              "    </tr>\n",
              "    <tr>\n",
              "      <th>58640</th>\n",
              "      <td>58640</td>\n",
              "      <td>34</td>\n",
              "      <td>120000</td>\n",
              "      <td>0</td>\n",
              "      <td>5.0</td>\n",
              "      <td>1</td>\n",
              "      <td>3</td>\n",
              "      <td>25000</td>\n",
              "      <td>15.95</td>\n",
              "      <td>0.21</td>\n",
              "      <td>1</td>\n",
              "      <td>10</td>\n",
              "      <td>0</td>\n",
              "    </tr>\n",
              "    <tr>\n",
              "      <th>58641</th>\n",
              "      <td>58641</td>\n",
              "      <td>28</td>\n",
              "      <td>28800</td>\n",
              "      <td>3</td>\n",
              "      <td>0.0</td>\n",
              "      <td>3</td>\n",
              "      <td>2</td>\n",
              "      <td>10000</td>\n",
              "      <td>12.73</td>\n",
              "      <td>0.35</td>\n",
              "      <td>0</td>\n",
              "      <td>8</td>\n",
              "      <td>1</td>\n",
              "    </tr>\n",
              "    <tr>\n",
              "      <th>58642</th>\n",
              "      <td>58642</td>\n",
              "      <td>23</td>\n",
              "      <td>44000</td>\n",
              "      <td>3</td>\n",
              "      <td>7.0</td>\n",
              "      <td>1</td>\n",
              "      <td>3</td>\n",
              "      <td>6800</td>\n",
              "      <td>16.00</td>\n",
              "      <td>0.15</td>\n",
              "      <td>0</td>\n",
              "      <td>2</td>\n",
              "      <td>1</td>\n",
              "    </tr>\n",
              "    <tr>\n",
              "      <th>58643</th>\n",
              "      <td>58643</td>\n",
              "      <td>22</td>\n",
              "      <td>30000</td>\n",
              "      <td>3</td>\n",
              "      <td>2.0</td>\n",
              "      <td>1</td>\n",
              "      <td>0</td>\n",
              "      <td>5000</td>\n",
              "      <td>8.90</td>\n",
              "      <td>0.17</td>\n",
              "      <td>0</td>\n",
              "      <td>3</td>\n",
              "      <td>0</td>\n",
              "    </tr>\n",
              "    <tr>\n",
              "      <th>58644</th>\n",
              "      <td>58644</td>\n",
              "      <td>31</td>\n",
              "      <td>75000</td>\n",
              "      <td>0</td>\n",
              "      <td>2.0</td>\n",
              "      <td>5</td>\n",
              "      <td>1</td>\n",
              "      <td>15000</td>\n",
              "      <td>11.11</td>\n",
              "      <td>0.20</td>\n",
              "      <td>0</td>\n",
              "      <td>5</td>\n",
              "      <td>0</td>\n",
              "    </tr>\n",
              "  </tbody>\n",
              "</table>\n",
              "<p>58645 rows × 13 columns</p>\n",
              "</div>"
            ],
            "text/plain": [
              "          id  person_age  person_income  person_home_ownership  \\\n",
              "0          0          37          35000                      3   \n",
              "1          1          22          56000                      2   \n",
              "2          2          29          28800                      2   \n",
              "3          3          30          70000                      3   \n",
              "4          4          22          60000                      3   \n",
              "...      ...         ...            ...                    ...   \n",
              "58640  58640          34         120000                      0   \n",
              "58641  58641          28          28800                      3   \n",
              "58642  58642          23          44000                      3   \n",
              "58643  58643          22          30000                      3   \n",
              "58644  58644          31          75000                      0   \n",
              "\n",
              "       person_emp_length  loan_intent  loan_grade  loan_amnt  loan_int_rate  \\\n",
              "0                    0.0            1           1       6000          11.49   \n",
              "1                    6.0            3           2       4000          13.35   \n",
              "2                    8.0            4           0       6000           8.90   \n",
              "3                   14.0            5           1      12000          11.11   \n",
              "4                    2.0            3           0       6000           6.92   \n",
              "...                  ...          ...         ...        ...            ...   \n",
              "58640                5.0            1           3      25000          15.95   \n",
              "58641                0.0            3           2      10000          12.73   \n",
              "58642                7.0            1           3       6800          16.00   \n",
              "58643                2.0            1           0       5000           8.90   \n",
              "58644                2.0            5           1      15000          11.11   \n",
              "\n",
              "       loan_percent_income  cb_person_default_on_file  \\\n",
              "0                     0.17                          0   \n",
              "1                     0.07                          0   \n",
              "2                     0.21                          0   \n",
              "3                     0.17                          0   \n",
              "4                     0.10                          0   \n",
              "...                    ...                        ...   \n",
              "58640                 0.21                          1   \n",
              "58641                 0.35                          0   \n",
              "58642                 0.15                          0   \n",
              "58643                 0.17                          0   \n",
              "58644                 0.20                          0   \n",
              "\n",
              "       cb_person_cred_hist_length  loan_status  \n",
              "0                              14            0  \n",
              "1                               2            0  \n",
              "2                              10            0  \n",
              "3                               5            0  \n",
              "4                               3            0  \n",
              "...                           ...          ...  \n",
              "58640                          10            0  \n",
              "58641                           8            1  \n",
              "58642                           2            1  \n",
              "58643                           3            0  \n",
              "58644                           5            0  \n",
              "\n",
              "[58645 rows x 13 columns]"
            ]
          },
          "execution_count": 84,
          "metadata": {},
          "output_type": "execute_result"
        }
      ],
      "source": [
        "df"
      ]
    },
    {
      "cell_type": "code",
      "execution_count": 85,
      "metadata": {},
      "outputs": [],
      "source": [
        "x = df.drop([\"loan_status\", \"id\" ],axis=1)\n",
        "y = df[\"loan_status\"]\n",
        "\n",
        "x_train,x_test,y_train,y_test = train_test_split(x,y,random_state=1,test_size=0.3)"
      ]
    },
    {
      "cell_type": "markdown",
      "metadata": {
        "id": "19dHs7ZprqHd"
      },
      "source": [
        "## 1. Train a KNN Classifier"
      ]
    },
    {
      "cell_type": "code",
      "execution_count": 86,
      "metadata": {},
      "outputs": [],
      "source": [
        "score_list = {} #for saving score variables into it"
      ]
    },
    {
      "cell_type": "code",
      "execution_count": 87,
      "metadata": {
        "id": "sfo3q7hjru-k"
      },
      "outputs": [
        {
          "name": "stdout",
          "output_type": "stream",
          "text": [
            "Score is 0.8938274411731272\n"
          ]
        }
      ],
      "source": [
        "KNN = KNeighborsClassifier(n_neighbors=22)\n",
        "KNN.fit(x_train,y_train)\n",
        "knn_score = KNN.score(x_test,y_test)\n",
        "\n",
        "print(f\"Score is {knn_score}\")"
      ]
    },
    {
      "cell_type": "markdown",
      "metadata": {
        "id": "lqPzPhIs0zjf"
      },
      "source": [
        "- Perform cross validation"
      ]
    },
    {
      "cell_type": "code",
      "execution_count": 88,
      "metadata": {
        "id": "Xz-BV38o04PL"
      },
      "outputs": [
        {
          "data": {
            "text/plain": [
              "array([0.89453491, 0.89342655, 0.89342655, 0.89317077, 0.89359707])"
            ]
          },
          "execution_count": 88,
          "metadata": {},
          "output_type": "execute_result"
        }
      ],
      "source": [
        "scores = cross_val_score(KNN, x, y, cv=5)\n",
        "scores"
      ]
    },
    {
      "cell_type": "code",
      "execution_count": 89,
      "metadata": {},
      "outputs": [
        {
          "name": "stdout",
          "output_type": "stream",
          "text": [
            "0.89 accuracy with a standard deviation of 0.00\n"
          ]
        }
      ],
      "source": [
        "print(\"%0.2f accuracy with a standard deviation of %0.2f\" % (scores.mean(), scores.std()))\n",
        "score_list[\"KNN Classifier\"] = scores.mean()"
      ]
    },
    {
      "cell_type": "markdown",
      "metadata": {
        "id": "9iQFaBrfzNmM"
      },
      "source": [
        "## 2. Train a Logistic Regression Classifier"
      ]
    },
    {
      "cell_type": "code",
      "execution_count": 90,
      "metadata": {
        "id": "LaiPKRnRzN3P"
      },
      "outputs": [
        {
          "name": "stdout",
          "output_type": "stream",
          "text": [
            "Score is 0.8855291576673866\n"
          ]
        },
        {
          "name": "stderr",
          "output_type": "stream",
          "text": [
            "c:\\Users\\Neil\\miniconda3\\envs\\COM222\\Lib\\site-packages\\sklearn\\linear_model\\_logistic.py:469: ConvergenceWarning: lbfgs failed to converge (status=1):\n",
            "STOP: TOTAL NO. of ITERATIONS REACHED LIMIT.\n",
            "\n",
            "Increase the number of iterations (max_iter) or scale the data as shown in:\n",
            "    https://scikit-learn.org/stable/modules/preprocessing.html\n",
            "Please also refer to the documentation for alternative solver options:\n",
            "    https://scikit-learn.org/stable/modules/linear_model.html#logistic-regression\n",
            "  n_iter_i = _check_optimize_result(\n"
          ]
        }
      ],
      "source": [
        "LR = LogisticRegression()\n",
        "LR.fit(x_train,y_train)\n",
        "lr_score = LR.score(x_test,y_test)\n",
        "\n",
        "print(f\"Score is {lr_score}\")"
      ]
    },
    {
      "cell_type": "markdown",
      "metadata": {
        "id": "sj2wlK-4044w"
      },
      "source": [
        "- Perform cross validation"
      ]
    },
    {
      "cell_type": "code",
      "execution_count": 91,
      "metadata": {
        "id": "LaPPbhEb0740"
      },
      "outputs": [
        {
          "name": "stderr",
          "output_type": "stream",
          "text": [
            "c:\\Users\\Neil\\miniconda3\\envs\\COM222\\Lib\\site-packages\\sklearn\\linear_model\\_logistic.py:469: ConvergenceWarning: lbfgs failed to converge (status=1):\n",
            "STOP: TOTAL NO. of ITERATIONS REACHED LIMIT.\n",
            "\n",
            "Increase the number of iterations (max_iter) or scale the data as shown in:\n",
            "    https://scikit-learn.org/stable/modules/preprocessing.html\n",
            "Please also refer to the documentation for alternative solver options:\n",
            "    https://scikit-learn.org/stable/modules/linear_model.html#logistic-regression\n",
            "  n_iter_i = _check_optimize_result(\n",
            "c:\\Users\\Neil\\miniconda3\\envs\\COM222\\Lib\\site-packages\\sklearn\\linear_model\\_logistic.py:469: ConvergenceWarning: lbfgs failed to converge (status=1):\n",
            "STOP: TOTAL NO. of ITERATIONS REACHED LIMIT.\n",
            "\n",
            "Increase the number of iterations (max_iter) or scale the data as shown in:\n",
            "    https://scikit-learn.org/stable/modules/preprocessing.html\n",
            "Please also refer to the documentation for alternative solver options:\n",
            "    https://scikit-learn.org/stable/modules/linear_model.html#logistic-regression\n",
            "  n_iter_i = _check_optimize_result(\n",
            "c:\\Users\\Neil\\miniconda3\\envs\\COM222\\Lib\\site-packages\\sklearn\\linear_model\\_logistic.py:469: ConvergenceWarning: lbfgs failed to converge (status=1):\n",
            "STOP: TOTAL NO. of ITERATIONS REACHED LIMIT.\n",
            "\n",
            "Increase the number of iterations (max_iter) or scale the data as shown in:\n",
            "    https://scikit-learn.org/stable/modules/preprocessing.html\n",
            "Please also refer to the documentation for alternative solver options:\n",
            "    https://scikit-learn.org/stable/modules/linear_model.html#logistic-regression\n",
            "  n_iter_i = _check_optimize_result(\n",
            "c:\\Users\\Neil\\miniconda3\\envs\\COM222\\Lib\\site-packages\\sklearn\\linear_model\\_logistic.py:469: ConvergenceWarning: lbfgs failed to converge (status=1):\n",
            "STOP: TOTAL NO. of ITERATIONS REACHED LIMIT.\n",
            "\n",
            "Increase the number of iterations (max_iter) or scale the data as shown in:\n",
            "    https://scikit-learn.org/stable/modules/preprocessing.html\n",
            "Please also refer to the documentation for alternative solver options:\n",
            "    https://scikit-learn.org/stable/modules/linear_model.html#logistic-regression\n",
            "  n_iter_i = _check_optimize_result(\n",
            "c:\\Users\\Neil\\miniconda3\\envs\\COM222\\Lib\\site-packages\\sklearn\\linear_model\\_logistic.py:469: ConvergenceWarning: lbfgs failed to converge (status=1):\n",
            "STOP: TOTAL NO. of ITERATIONS REACHED LIMIT.\n",
            "\n",
            "Increase the number of iterations (max_iter) or scale the data as shown in:\n",
            "    https://scikit-learn.org/stable/modules/preprocessing.html\n",
            "Please also refer to the documentation for alternative solver options:\n",
            "    https://scikit-learn.org/stable/modules/linear_model.html#logistic-regression\n",
            "  n_iter_i = _check_optimize_result(\n"
          ]
        },
        {
          "data": {
            "text/plain": [
              "array([0.88353653, 0.88293972, 0.8831955 , 0.88208713, 0.88515645])"
            ]
          },
          "execution_count": 91,
          "metadata": {},
          "output_type": "execute_result"
        }
      ],
      "source": [
        "scores = cross_val_score(LR, x, y, cv=5)\n",
        "scores"
      ]
    },
    {
      "cell_type": "code",
      "execution_count": 92,
      "metadata": {},
      "outputs": [
        {
          "name": "stdout",
          "output_type": "stream",
          "text": [
            "0.88 accuracy with a standard deviation of 0.00\n"
          ]
        }
      ],
      "source": [
        "print(\"%0.2f accuracy with a standard deviation of %0.2f\" % (scores.mean(), scores.std()))\n",
        "score_list[\"Logistic Regression\"] = scores.mean()"
      ]
    },
    {
      "cell_type": "markdown",
      "metadata": {
        "id": "MK7R5QHszVir"
      },
      "source": [
        "## 3. Train a Naive Bayes Classifier"
      ]
    },
    {
      "cell_type": "code",
      "execution_count": 52,
      "metadata": {
        "id": "wh3rW-_SzV1a"
      },
      "outputs": [
        {
          "name": "stdout",
          "output_type": "stream",
          "text": [
            "Score is 0.8824599295214277\n"
          ]
        }
      ],
      "source": [
        "NBC = GaussianNB()\n",
        "NBC.fit(x_train,y_train)\n",
        "NBC_score = NBC.score(x_test,y_test)\n",
        "\n",
        "print(f\"Score is {NBC_score}\")"
      ]
    },
    {
      "cell_type": "markdown",
      "metadata": {
        "id": "r1s7wlRE0-6r"
      },
      "source": [
        "- Perform cross validation"
      ]
    },
    {
      "cell_type": "code",
      "execution_count": 93,
      "metadata": {
        "id": "Czj8xzAa0_Nt"
      },
      "outputs": [
        {
          "data": {
            "text/plain": [
              "array([0.87876204, 0.88149032, 0.88302498, 0.88242817, 0.88370705])"
            ]
          },
          "execution_count": 93,
          "metadata": {},
          "output_type": "execute_result"
        }
      ],
      "source": [
        "scores = cross_val_score(NBC, x, y, cv=5)\n",
        "scores"
      ]
    },
    {
      "cell_type": "code",
      "execution_count": 94,
      "metadata": {},
      "outputs": [
        {
          "name": "stdout",
          "output_type": "stream",
          "text": [
            "0.88 accuracy with a standard deviation of 0.00\n"
          ]
        }
      ],
      "source": [
        "print(\"%0.2f accuracy with a standard deviation of %0.2f\" % (scores.mean(), scores.std()))\n",
        "score_list[\"Naive Bayes\"] = scores.mean()"
      ]
    },
    {
      "cell_type": "markdown",
      "metadata": {
        "id": "GlMLKDF_rvUM"
      },
      "source": [
        "## 4. Train a SVM Classifier"
      ]
    },
    {
      "cell_type": "code",
      "execution_count": 55,
      "metadata": {
        "id": "0MJX8VBysFxR"
      },
      "outputs": [
        {
          "name": "stdout",
          "output_type": "stream",
          "text": [
            "Score is 0.8579061043537569\n"
          ]
        }
      ],
      "source": [
        "svc = SVC()\n",
        "svc.fit(x_train,y_train)\n",
        "svc_score = svc.score(x_test,y_test)\n",
        "\n",
        "print(f\"Score is {svc_score}\")"
      ]
    },
    {
      "cell_type": "markdown",
      "metadata": {
        "id": "-wzEMe9J1DSe"
      },
      "source": [
        "- Perform cross validation"
      ]
    },
    {
      "cell_type": "code",
      "execution_count": 56,
      "metadata": {
        "id": "dPJlm2S-1Dqe"
      },
      "outputs": [
        {
          "data": {
            "text/plain": [
              "array([0.85761787, 0.85761787, 0.85761787, 0.85753261, 0.85761787])"
            ]
          },
          "execution_count": 56,
          "metadata": {},
          "output_type": "execute_result"
        }
      ],
      "source": [
        "scores = cross_val_score(svc, x, y, cv=5)\n",
        "scores"
      ]
    },
    {
      "cell_type": "code",
      "execution_count": 57,
      "metadata": {},
      "outputs": [
        {
          "name": "stdout",
          "output_type": "stream",
          "text": [
            "0.86 accuracy with a standard deviation of 0.00\n"
          ]
        }
      ],
      "source": [
        "print(\"%0.2f accuracy with a standard deviation of %0.2f\" % (scores.mean(), scores.std()))\n",
        "score_list[\"SVM\"] = scores.mean()"
      ]
    },
    {
      "cell_type": "markdown",
      "metadata": {
        "id": "8n-ScOLqze60"
      },
      "source": [
        "## 5. Train a Decision Tree Classifier"
      ]
    },
    {
      "cell_type": "code",
      "execution_count": 95,
      "metadata": {
        "id": "fqLNJkoHzfL4"
      },
      "outputs": [
        {
          "name": "stdout",
          "output_type": "stream",
          "text": [
            "Score is 0.9113334091167443\n"
          ]
        }
      ],
      "source": [
        "dtc = DecisionTreeClassifier(random_state=1)\n",
        "dtc.fit(x_train,y_train)\n",
        "\n",
        "dtc_score = dtc.score(x_test,y_test)\n",
        "print(f\"Score is {dtc_score}\")"
      ]
    },
    {
      "cell_type": "markdown",
      "metadata": {
        "id": "5dkFpQ2j1GUO"
      },
      "source": [
        "- Perform cross validation"
      ]
    },
    {
      "cell_type": "code",
      "execution_count": 96,
      "metadata": {
        "id": "hOXY4nc71Gk5"
      },
      "outputs": [
        {
          "data": {
            "text/plain": [
              "array([0.91457072, 0.90630062, 0.91039304, 0.9162759 , 0.9144002 ])"
            ]
          },
          "execution_count": 96,
          "metadata": {},
          "output_type": "execute_result"
        }
      ],
      "source": [
        "scores = cross_val_score(dtc, x, y, cv=5)\n",
        "scores"
      ]
    },
    {
      "cell_type": "code",
      "execution_count": 97,
      "metadata": {},
      "outputs": [
        {
          "name": "stdout",
          "output_type": "stream",
          "text": [
            "0.91 accuracy with a standard deviation of 0.00\n"
          ]
        }
      ],
      "source": [
        "print(\"%0.2f accuracy with a standard deviation of %0.2f\" % (scores.mean(), scores.std()))\n",
        "score_list[\"Decision Tree Classifiers\"] = scores.mean()"
      ]
    },
    {
      "cell_type": "markdown",
      "metadata": {
        "id": "MkJ6eVbNsBay"
      },
      "source": [
        "## 6. Train a Random Forest Classifier"
      ]
    },
    {
      "cell_type": "code",
      "execution_count": 98,
      "metadata": {
        "id": "w_LoDOYHsGo2"
      },
      "outputs": [
        {
          "name": "stdout",
          "output_type": "stream",
          "text": [
            "Score is 0.9486188473343186\n"
          ]
        }
      ],
      "source": [
        "rfc = RandomForestClassifier(n_estimators=50,random_state=1)\n",
        "rfc.fit(x_train,y_train)\n",
        "rfc_score = rfc.score(x_test,y_test)\n",
        "score_list[\"RFC\"]=rfc_score\n",
        "\n",
        "print(f\"Score is {rfc_score}\")"
      ]
    },
    {
      "cell_type": "markdown",
      "metadata": {
        "id": "3orhk-Vf0Jg-"
      },
      "source": [
        "## 7. Compare all the performance of all classification models"
      ]
    },
    {
      "cell_type": "code",
      "execution_count": 99,
      "metadata": {
        "id": "r5FUkgck0VY8"
      },
      "outputs": [],
      "source": [
        "score_list = list(score_list.items())"
      ]
    },
    {
      "cell_type": "code",
      "execution_count": 100,
      "metadata": {},
      "outputs": [
        {
          "name": "stdout",
          "output_type": "stream",
          "text": [
            "KNN Classifier Score is 0.89 \n",
            "Logistic Regression Score is 0.88 \n",
            "Naive Bayes Score is 0.88 \n",
            "Decision Tree Classifiers Score is 0.91 \n",
            "RFC Score is 0.94 \n"
          ]
        }
      ],
      "source": [
        "for alg,score in score_list:\n",
        "    print(f\"{alg} Score is {str(score)[:4]} \")"
      ]
    },
    {
      "cell_type": "markdown",
      "metadata": {
        "id": "a6UAAMyepmHi"
      },
      "source": [
        "## 9. Generate Submission File\n",
        "\n",
        "Choose the model that has the best performance to generate a submission file."
      ]
    },
    {
      "cell_type": "code",
      "execution_count": 101,
      "metadata": {},
      "outputs": [],
      "source": [
        "dt.drop('id', axis=1, inplace=True)"
      ]
    },
    {
      "cell_type": "code",
      "execution_count": 102,
      "metadata": {},
      "outputs": [
        {
          "data": {
            "text/html": [
              "<div>\n",
              "<style scoped>\n",
              "    .dataframe tbody tr th:only-of-type {\n",
              "        vertical-align: middle;\n",
              "    }\n",
              "\n",
              "    .dataframe tbody tr th {\n",
              "        vertical-align: top;\n",
              "    }\n",
              "\n",
              "    .dataframe thead th {\n",
              "        text-align: right;\n",
              "    }\n",
              "</style>\n",
              "<table border=\"1\" class=\"dataframe\">\n",
              "  <thead>\n",
              "    <tr style=\"text-align: right;\">\n",
              "      <th></th>\n",
              "      <th>person_age</th>\n",
              "      <th>person_income</th>\n",
              "      <th>person_home_ownership</th>\n",
              "      <th>person_emp_length</th>\n",
              "      <th>loan_intent</th>\n",
              "      <th>loan_grade</th>\n",
              "      <th>loan_amnt</th>\n",
              "      <th>loan_int_rate</th>\n",
              "      <th>loan_percent_income</th>\n",
              "      <th>cb_person_default_on_file</th>\n",
              "      <th>cb_person_cred_hist_length</th>\n",
              "    </tr>\n",
              "  </thead>\n",
              "  <tbody>\n",
              "    <tr>\n",
              "      <th>0</th>\n",
              "      <td>23</td>\n",
              "      <td>69000</td>\n",
              "      <td>3</td>\n",
              "      <td>3.0</td>\n",
              "      <td>2</td>\n",
              "      <td>5</td>\n",
              "      <td>25000</td>\n",
              "      <td>15.76</td>\n",
              "      <td>0.36</td>\n",
              "      <td>0</td>\n",
              "      <td>2</td>\n",
              "    </tr>\n",
              "    <tr>\n",
              "      <th>1</th>\n",
              "      <td>26</td>\n",
              "      <td>96000</td>\n",
              "      <td>0</td>\n",
              "      <td>6.0</td>\n",
              "      <td>4</td>\n",
              "      <td>2</td>\n",
              "      <td>10000</td>\n",
              "      <td>12.68</td>\n",
              "      <td>0.10</td>\n",
              "      <td>1</td>\n",
              "      <td>4</td>\n",
              "    </tr>\n",
              "    <tr>\n",
              "      <th>2</th>\n",
              "      <td>26</td>\n",
              "      <td>30000</td>\n",
              "      <td>3</td>\n",
              "      <td>5.0</td>\n",
              "      <td>5</td>\n",
              "      <td>4</td>\n",
              "      <td>4000</td>\n",
              "      <td>17.19</td>\n",
              "      <td>0.13</td>\n",
              "      <td>1</td>\n",
              "      <td>2</td>\n",
              "    </tr>\n",
              "    <tr>\n",
              "      <th>3</th>\n",
              "      <td>33</td>\n",
              "      <td>50000</td>\n",
              "      <td>3</td>\n",
              "      <td>4.0</td>\n",
              "      <td>0</td>\n",
              "      <td>0</td>\n",
              "      <td>7000</td>\n",
              "      <td>8.90</td>\n",
              "      <td>0.14</td>\n",
              "      <td>0</td>\n",
              "      <td>7</td>\n",
              "    </tr>\n",
              "    <tr>\n",
              "      <th>4</th>\n",
              "      <td>26</td>\n",
              "      <td>102000</td>\n",
              "      <td>0</td>\n",
              "      <td>8.0</td>\n",
              "      <td>2</td>\n",
              "      <td>3</td>\n",
              "      <td>15000</td>\n",
              "      <td>16.32</td>\n",
              "      <td>0.15</td>\n",
              "      <td>1</td>\n",
              "      <td>4</td>\n",
              "    </tr>\n",
              "  </tbody>\n",
              "</table>\n",
              "</div>"
            ],
            "text/plain": [
              "   person_age  person_income  person_home_ownership  person_emp_length  \\\n",
              "0          23          69000                      3                3.0   \n",
              "1          26          96000                      0                6.0   \n",
              "2          26          30000                      3                5.0   \n",
              "3          33          50000                      3                4.0   \n",
              "4          26         102000                      0                8.0   \n",
              "\n",
              "   loan_intent  loan_grade  loan_amnt  loan_int_rate  loan_percent_income  \\\n",
              "0            2           5      25000          15.76                 0.36   \n",
              "1            4           2      10000          12.68                 0.10   \n",
              "2            5           4       4000          17.19                 0.13   \n",
              "3            0           0       7000           8.90                 0.14   \n",
              "4            2           3      15000          16.32                 0.15   \n",
              "\n",
              "   cb_person_default_on_file  cb_person_cred_hist_length  \n",
              "0                          0                           2  \n",
              "1                          1                           4  \n",
              "2                          1                           2  \n",
              "3                          0                           7  \n",
              "4                          1                           4  "
            ]
          },
          "execution_count": 102,
          "metadata": {},
          "output_type": "execute_result"
        }
      ],
      "source": [
        "dt.head()"
      ]
    },
    {
      "cell_type": "code",
      "execution_count": 103,
      "metadata": {
        "id": "HrelEEFJpjzI"
      },
      "outputs": [
        {
          "name": "stdout",
          "output_type": "stream",
          "text": [
            "Submission file created: submission_file.csv\n"
          ]
        }
      ],
      "source": [
        "id = sf.pop('id')\n",
        "y_pred = rfc.predict(dt) #Used model is Random Forest\n",
        "\n",
        "# Create a submission DataFrame\n",
        "submission_df = pd.DataFrame({\n",
        "    'id': id,\n",
        "    'loan_status': y_pred\n",
        "})\n",
        "\n",
        "# Save the submission DataFrame to a CSV file\n",
        "submission_df.to_csv('submission_file.csv', index=False)\n",
        "print(\"Submission file created: submission_file.csv\")"
      ]
    }
  ],
  "metadata": {
    "colab": {
      "collapsed_sections": [
        "eCNNEXIhftVN",
        "mLFiGySNftVP",
        "ntGpbsBg8hft"
      ],
      "include_colab_link": true,
      "provenance": []
    },
    "kernelspec": {
      "display_name": "COM222",
      "language": "python",
      "name": "python3"
    },
    "language_info": {
      "codemirror_mode": {
        "name": "ipython",
        "version": 3
      },
      "file_extension": ".py",
      "mimetype": "text/x-python",
      "name": "python",
      "nbconvert_exporter": "python",
      "pygments_lexer": "ipython3",
      "version": "3.11.9"
    }
  },
  "nbformat": 4,
  "nbformat_minor": 0
}
